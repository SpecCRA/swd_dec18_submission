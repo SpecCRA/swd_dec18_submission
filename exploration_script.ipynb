{
 "cells": [
  {
   "cell_type": "markdown",
   "metadata": {},
   "source": [
    "# Import Modules"
   ]
  },
  {
   "cell_type": "code",
   "execution_count": 1,
   "metadata": {},
   "outputs": [],
   "source": [
    "import pandas as pd\n",
    "import numpy as np\n",
    "import matplotlib.pyplot as plt\n",
    "import seaborn as sns\n",
    "%matplotlib inline\n",
    "import time"
   ]
  },
  {
   "cell_type": "markdown",
   "metadata": {},
   "source": [
    "Be sure to make note of which computer you are on, so you don't get a file path error."
   ]
  },
  {
   "cell_type": "markdown",
   "metadata": {},
   "source": [
    "# Load Data File"
   ]
  },
  {
   "cell_type": "code",
   "execution_count": 2,
   "metadata": {},
   "outputs": [
    {
     "data": {
      "text/plain": [
       "'\\n3 Letter aiport codes for Origin and Destination\\nPassengers - Number of passengers transported on flight\\nSeats - Number of seats availalbe\\nFlights - Number of flights between origin and destination (multiple records for one month, many with flights > 1)\\nDistance - to the nearest mile\\nFly date - YYYYMM\\nPopulations are according to US Cenus data\\n'"
      ]
     },
     "execution_count": 2,
     "metadata": {},
     "output_type": "execute_result"
    }
   ],
   "source": [
    "# US domestic flights from 1990 to 2009\n",
    "\n",
    "# on Mini\n",
    "file_path = '/Users/mini/Documents/swd_challenges/dec_18_submission/chimps_16091-2010-08-03_17-08-31/flight_edges.tsv'\n",
    "\n",
    "# on MacBook\n",
    "#file_path = '/Users/benjaminxiao/Documents/swd_challenges/dec_18_submission/chimps_16091-2010-08-03_17-08-31/flight_edges.tsv'\n",
    "\n",
    "headers = ['Origin', 'Destination', 'Origin City', 'Destination City', 'Passengers', \\\n",
    "          'Seats', 'Flights', 'Distance', 'Fly Date', 'Origin Population' \\\n",
    "          , 'Destination Population']\n",
    "\n",
    "\"\"\"\n",
    "3 Letter aiport codes for Origin and Destination\n",
    "Passengers - Number of passengers transported on flight\n",
    "Seats - Number of seats availalbe\n",
    "Flights - Number of flights between origin and destination (multiple records for one month, many with flights > 1)\n",
    "Distance - to the nearest mile\n",
    "Fly date - YYYYMM\n",
    "Populations are according to US Cenus data\n",
    "\"\"\""
   ]
  },
  {
   "cell_type": "code",
   "execution_count": 3,
   "metadata": {},
   "outputs": [],
   "source": [
    "df = pd.read_csv(file_path, sep='\\t', names=headers)"
   ]
  },
  {
   "cell_type": "markdown",
   "metadata": {},
   "source": [
    "# Data Exploration"
   ]
  },
  {
   "cell_type": "code",
   "execution_count": 4,
   "metadata": {},
   "outputs": [
    {
     "data": {
      "text/html": [
       "<div>\n",
       "<style scoped>\n",
       "    .dataframe tbody tr th:only-of-type {\n",
       "        vertical-align: middle;\n",
       "    }\n",
       "\n",
       "    .dataframe tbody tr th {\n",
       "        vertical-align: top;\n",
       "    }\n",
       "\n",
       "    .dataframe thead th {\n",
       "        text-align: right;\n",
       "    }\n",
       "</style>\n",
       "<table border=\"1\" class=\"dataframe\">\n",
       "  <thead>\n",
       "    <tr style=\"text-align: right;\">\n",
       "      <th></th>\n",
       "      <th>Origin</th>\n",
       "      <th>Destination</th>\n",
       "      <th>Origin City</th>\n",
       "      <th>Destination City</th>\n",
       "      <th>Passengers</th>\n",
       "      <th>Seats</th>\n",
       "      <th>Flights</th>\n",
       "      <th>Distance</th>\n",
       "      <th>Fly Date</th>\n",
       "      <th>Origin Population</th>\n",
       "      <th>Destination Population</th>\n",
       "    </tr>\n",
       "  </thead>\n",
       "  <tbody>\n",
       "    <tr>\n",
       "      <th>0</th>\n",
       "      <td>MHK</td>\n",
       "      <td>AMW</td>\n",
       "      <td>Manhattan, KS</td>\n",
       "      <td>Ames, IA</td>\n",
       "      <td>21</td>\n",
       "      <td>30</td>\n",
       "      <td>1</td>\n",
       "      <td>254.0</td>\n",
       "      <td>200810</td>\n",
       "      <td>122049</td>\n",
       "      <td>86219</td>\n",
       "    </tr>\n",
       "    <tr>\n",
       "      <th>1</th>\n",
       "      <td>EUG</td>\n",
       "      <td>RDM</td>\n",
       "      <td>Eugene, OR</td>\n",
       "      <td>Bend, OR</td>\n",
       "      <td>41</td>\n",
       "      <td>396</td>\n",
       "      <td>22</td>\n",
       "      <td>103.0</td>\n",
       "      <td>199011</td>\n",
       "      <td>284093</td>\n",
       "      <td>76034</td>\n",
       "    </tr>\n",
       "    <tr>\n",
       "      <th>2</th>\n",
       "      <td>EUG</td>\n",
       "      <td>RDM</td>\n",
       "      <td>Eugene, OR</td>\n",
       "      <td>Bend, OR</td>\n",
       "      <td>88</td>\n",
       "      <td>342</td>\n",
       "      <td>19</td>\n",
       "      <td>103.0</td>\n",
       "      <td>199012</td>\n",
       "      <td>284093</td>\n",
       "      <td>76034</td>\n",
       "    </tr>\n",
       "    <tr>\n",
       "      <th>3</th>\n",
       "      <td>EUG</td>\n",
       "      <td>RDM</td>\n",
       "      <td>Eugene, OR</td>\n",
       "      <td>Bend, OR</td>\n",
       "      <td>11</td>\n",
       "      <td>72</td>\n",
       "      <td>4</td>\n",
       "      <td>103.0</td>\n",
       "      <td>199010</td>\n",
       "      <td>284093</td>\n",
       "      <td>76034</td>\n",
       "    </tr>\n",
       "    <tr>\n",
       "      <th>4</th>\n",
       "      <td>MFR</td>\n",
       "      <td>RDM</td>\n",
       "      <td>Medford, OR</td>\n",
       "      <td>Bend, OR</td>\n",
       "      <td>0</td>\n",
       "      <td>18</td>\n",
       "      <td>1</td>\n",
       "      <td>156.0</td>\n",
       "      <td>199002</td>\n",
       "      <td>147300</td>\n",
       "      <td>76034</td>\n",
       "    </tr>\n",
       "    <tr>\n",
       "      <th>5</th>\n",
       "      <td>MFR</td>\n",
       "      <td>RDM</td>\n",
       "      <td>Medford, OR</td>\n",
       "      <td>Bend, OR</td>\n",
       "      <td>11</td>\n",
       "      <td>18</td>\n",
       "      <td>1</td>\n",
       "      <td>156.0</td>\n",
       "      <td>199003</td>\n",
       "      <td>147300</td>\n",
       "      <td>76034</td>\n",
       "    </tr>\n",
       "    <tr>\n",
       "      <th>6</th>\n",
       "      <td>MFR</td>\n",
       "      <td>RDM</td>\n",
       "      <td>Medford, OR</td>\n",
       "      <td>Bend, OR</td>\n",
       "      <td>2</td>\n",
       "      <td>72</td>\n",
       "      <td>4</td>\n",
       "      <td>156.0</td>\n",
       "      <td>199001</td>\n",
       "      <td>147300</td>\n",
       "      <td>76034</td>\n",
       "    </tr>\n",
       "    <tr>\n",
       "      <th>7</th>\n",
       "      <td>MFR</td>\n",
       "      <td>RDM</td>\n",
       "      <td>Medford, OR</td>\n",
       "      <td>Bend, OR</td>\n",
       "      <td>7</td>\n",
       "      <td>18</td>\n",
       "      <td>1</td>\n",
       "      <td>156.0</td>\n",
       "      <td>199009</td>\n",
       "      <td>147300</td>\n",
       "      <td>76034</td>\n",
       "    </tr>\n",
       "    <tr>\n",
       "      <th>8</th>\n",
       "      <td>MFR</td>\n",
       "      <td>RDM</td>\n",
       "      <td>Medford, OR</td>\n",
       "      <td>Bend, OR</td>\n",
       "      <td>7</td>\n",
       "      <td>36</td>\n",
       "      <td>2</td>\n",
       "      <td>156.0</td>\n",
       "      <td>199011</td>\n",
       "      <td>147300</td>\n",
       "      <td>76034</td>\n",
       "    </tr>\n",
       "    <tr>\n",
       "      <th>9</th>\n",
       "      <td>SEA</td>\n",
       "      <td>RDM</td>\n",
       "      <td>Seattle, WA</td>\n",
       "      <td>Bend, OR</td>\n",
       "      <td>8</td>\n",
       "      <td>18</td>\n",
       "      <td>1</td>\n",
       "      <td>228.0</td>\n",
       "      <td>199002</td>\n",
       "      <td>5154164</td>\n",
       "      <td>76034</td>\n",
       "    </tr>\n",
       "  </tbody>\n",
       "</table>\n",
       "</div>"
      ],
      "text/plain": [
       "  Origin Destination    Origin City Destination City  Passengers  Seats  \\\n",
       "0    MHK         AMW  Manhattan, KS         Ames, IA          21     30   \n",
       "1    EUG         RDM     Eugene, OR         Bend, OR          41    396   \n",
       "2    EUG         RDM     Eugene, OR         Bend, OR          88    342   \n",
       "3    EUG         RDM     Eugene, OR         Bend, OR          11     72   \n",
       "4    MFR         RDM    Medford, OR         Bend, OR           0     18   \n",
       "5    MFR         RDM    Medford, OR         Bend, OR          11     18   \n",
       "6    MFR         RDM    Medford, OR         Bend, OR           2     72   \n",
       "7    MFR         RDM    Medford, OR         Bend, OR           7     18   \n",
       "8    MFR         RDM    Medford, OR         Bend, OR           7     36   \n",
       "9    SEA         RDM    Seattle, WA         Bend, OR           8     18   \n",
       "\n",
       "   Flights  Distance  Fly Date  Origin Population  Destination Population  \n",
       "0        1     254.0    200810             122049                   86219  \n",
       "1       22     103.0    199011             284093                   76034  \n",
       "2       19     103.0    199012             284093                   76034  \n",
       "3        4     103.0    199010             284093                   76034  \n",
       "4        1     156.0    199002             147300                   76034  \n",
       "5        1     156.0    199003             147300                   76034  \n",
       "6        4     156.0    199001             147300                   76034  \n",
       "7        1     156.0    199009             147300                   76034  \n",
       "8        2     156.0    199011             147300                   76034  \n",
       "9        1     228.0    199002            5154164                   76034  "
      ]
     },
     "execution_count": 4,
     "metadata": {},
     "output_type": "execute_result"
    }
   ],
   "source": [
    "df.head(n=10)"
   ]
  },
  {
   "cell_type": "code",
   "execution_count": 5,
   "metadata": {},
   "outputs": [
    {
     "name": "stdout",
     "output_type": "stream",
     "text": [
      "['Origin', 'Destination', 'Origin City', 'Destination City', 'Passengers', 'Seats', 'Flights', 'Distance', 'Fly Date', 'Origin Population', 'Destination Population']\n"
     ]
    }
   ],
   "source": [
    "print(list(df)) # list columns\n",
    "#list(df)[0] # week of data collection\n",
    "#list(df)[1] # search value, country"
   ]
  },
  {
   "cell_type": "code",
   "execution_count": 6,
   "metadata": {},
   "outputs": [
    {
     "data": {
      "text/plain": [
       "3606803"
      ]
     },
     "execution_count": 6,
     "metadata": {},
     "output_type": "execute_result"
    }
   ],
   "source": [
    "len(df) # check how many rows"
   ]
  },
  {
   "cell_type": "code",
   "execution_count": 7,
   "metadata": {},
   "outputs": [
    {
     "data": {
      "text/plain": [
       "Origin                     object\n",
       "Destination                object\n",
       "Origin City                object\n",
       "Destination City           object\n",
       "Passengers                  int64\n",
       "Seats                       int64\n",
       "Flights                     int64\n",
       "Distance                  float64\n",
       "Fly Date                    int64\n",
       "Origin Population           int64\n",
       "Destination Population      int64\n",
       "dtype: object"
      ]
     },
     "execution_count": 7,
     "metadata": {},
     "output_type": "execute_result"
    }
   ],
   "source": [
    "df.dtypes # Check data types"
   ]
  },
  {
   "cell_type": "code",
   "execution_count": 8,
   "metadata": {},
   "outputs": [],
   "source": [
    "df['Fly Date'] = df['Fly Date'].astype(str)"
   ]
  },
  {
   "cell_type": "code",
   "execution_count": 9,
   "metadata": {},
   "outputs": [],
   "source": [
    "# change fly date to string instead of integer\n",
    "df = df.astype(dtype = {'Fly Date': 'object'}, copy = False)"
   ]
  },
  {
   "cell_type": "code",
   "execution_count": 10,
   "metadata": {},
   "outputs": [
    {
     "data": {
      "text/plain": [
       "Origin                     object\n",
       "Destination                object\n",
       "Origin City                object\n",
       "Destination City           object\n",
       "Passengers                  int64\n",
       "Seats                       int64\n",
       "Flights                     int64\n",
       "Distance                  float64\n",
       "Fly Date                   object\n",
       "Origin Population           int64\n",
       "Destination Population      int64\n",
       "dtype: object"
      ]
     },
     "execution_count": 10,
     "metadata": {},
     "output_type": "execute_result"
    }
   ],
   "source": [
    "df.dtypes # Check to see if data type was changed properly"
   ]
  },
  {
   "cell_type": "code",
   "execution_count": 11,
   "metadata": {},
   "outputs": [],
   "source": [
    "df['Month'] = None\n",
    "df['Year'] = None"
   ]
  },
  {
   "cell_type": "code",
   "execution_count": 12,
   "metadata": {},
   "outputs": [
    {
     "name": "stdout",
     "output_type": "stream",
     "text": [
      "2009\n",
      "10\n"
     ]
    }
   ],
   "source": [
    "tester = '200910'\n",
    "print(tester[:4])\n",
    "print(tester[4:])"
   ]
  },
  {
   "cell_type": "code",
   "execution_count": 13,
   "metadata": {},
   "outputs": [],
   "source": [
    "df.iat[1,12] = 10 # [row, column] # year\n",
    "df.iat[1,11] = 9 # month"
   ]
  },
  {
   "cell_type": "code",
   "execution_count": 14,
   "metadata": {},
   "outputs": [
    {
     "data": {
      "text/html": [
       "<div>\n",
       "<style scoped>\n",
       "    .dataframe tbody tr th:only-of-type {\n",
       "        vertical-align: middle;\n",
       "    }\n",
       "\n",
       "    .dataframe tbody tr th {\n",
       "        vertical-align: top;\n",
       "    }\n",
       "\n",
       "    .dataframe thead th {\n",
       "        text-align: right;\n",
       "    }\n",
       "</style>\n",
       "<table border=\"1\" class=\"dataframe\">\n",
       "  <thead>\n",
       "    <tr style=\"text-align: right;\">\n",
       "      <th></th>\n",
       "      <th>Origin</th>\n",
       "      <th>Destination</th>\n",
       "      <th>Origin City</th>\n",
       "      <th>Destination City</th>\n",
       "      <th>Passengers</th>\n",
       "      <th>Seats</th>\n",
       "      <th>Flights</th>\n",
       "      <th>Distance</th>\n",
       "      <th>Fly Date</th>\n",
       "      <th>Origin Population</th>\n",
       "      <th>Destination Population</th>\n",
       "      <th>Month</th>\n",
       "      <th>Year</th>\n",
       "    </tr>\n",
       "  </thead>\n",
       "  <tbody>\n",
       "    <tr>\n",
       "      <th>0</th>\n",
       "      <td>MHK</td>\n",
       "      <td>AMW</td>\n",
       "      <td>Manhattan, KS</td>\n",
       "      <td>Ames, IA</td>\n",
       "      <td>21</td>\n",
       "      <td>30</td>\n",
       "      <td>1</td>\n",
       "      <td>254.0</td>\n",
       "      <td>200810</td>\n",
       "      <td>122049</td>\n",
       "      <td>86219</td>\n",
       "      <td>None</td>\n",
       "      <td>None</td>\n",
       "    </tr>\n",
       "    <tr>\n",
       "      <th>1</th>\n",
       "      <td>EUG</td>\n",
       "      <td>RDM</td>\n",
       "      <td>Eugene, OR</td>\n",
       "      <td>Bend, OR</td>\n",
       "      <td>41</td>\n",
       "      <td>396</td>\n",
       "      <td>22</td>\n",
       "      <td>103.0</td>\n",
       "      <td>199011</td>\n",
       "      <td>284093</td>\n",
       "      <td>76034</td>\n",
       "      <td>9</td>\n",
       "      <td>10</td>\n",
       "    </tr>\n",
       "    <tr>\n",
       "      <th>2</th>\n",
       "      <td>EUG</td>\n",
       "      <td>RDM</td>\n",
       "      <td>Eugene, OR</td>\n",
       "      <td>Bend, OR</td>\n",
       "      <td>88</td>\n",
       "      <td>342</td>\n",
       "      <td>19</td>\n",
       "      <td>103.0</td>\n",
       "      <td>199012</td>\n",
       "      <td>284093</td>\n",
       "      <td>76034</td>\n",
       "      <td>None</td>\n",
       "      <td>None</td>\n",
       "    </tr>\n",
       "    <tr>\n",
       "      <th>3</th>\n",
       "      <td>EUG</td>\n",
       "      <td>RDM</td>\n",
       "      <td>Eugene, OR</td>\n",
       "      <td>Bend, OR</td>\n",
       "      <td>11</td>\n",
       "      <td>72</td>\n",
       "      <td>4</td>\n",
       "      <td>103.0</td>\n",
       "      <td>199010</td>\n",
       "      <td>284093</td>\n",
       "      <td>76034</td>\n",
       "      <td>None</td>\n",
       "      <td>None</td>\n",
       "    </tr>\n",
       "    <tr>\n",
       "      <th>4</th>\n",
       "      <td>MFR</td>\n",
       "      <td>RDM</td>\n",
       "      <td>Medford, OR</td>\n",
       "      <td>Bend, OR</td>\n",
       "      <td>0</td>\n",
       "      <td>18</td>\n",
       "      <td>1</td>\n",
       "      <td>156.0</td>\n",
       "      <td>199002</td>\n",
       "      <td>147300</td>\n",
       "      <td>76034</td>\n",
       "      <td>None</td>\n",
       "      <td>None</td>\n",
       "    </tr>\n",
       "  </tbody>\n",
       "</table>\n",
       "</div>"
      ],
      "text/plain": [
       "  Origin Destination    Origin City Destination City  Passengers  Seats  \\\n",
       "0    MHK         AMW  Manhattan, KS         Ames, IA          21     30   \n",
       "1    EUG         RDM     Eugene, OR         Bend, OR          41    396   \n",
       "2    EUG         RDM     Eugene, OR         Bend, OR          88    342   \n",
       "3    EUG         RDM     Eugene, OR         Bend, OR          11     72   \n",
       "4    MFR         RDM    Medford, OR         Bend, OR           0     18   \n",
       "\n",
       "   Flights  Distance Fly Date  Origin Population  Destination Population  \\\n",
       "0        1     254.0   200810             122049                   86219   \n",
       "1       22     103.0   199011             284093                   76034   \n",
       "2       19     103.0   199012             284093                   76034   \n",
       "3        4     103.0   199010             284093                   76034   \n",
       "4        1     156.0   199002             147300                   76034   \n",
       "\n",
       "  Month  Year  \n",
       "0  None  None  \n",
       "1     9    10  \n",
       "2  None  None  \n",
       "3  None  None  \n",
       "4  None  None  "
      ]
     },
     "execution_count": 14,
     "metadata": {},
     "output_type": "execute_result"
    }
   ],
   "source": [
    "df.head(n=5)"
   ]
  },
  {
   "cell_type": "code",
   "execution_count": 15,
   "metadata": {},
   "outputs": [],
   "source": [
    "testerdf = df.head(n=5)"
   ]
  },
  {
   "cell_type": "code",
   "execution_count": 16,
   "metadata": {},
   "outputs": [],
   "source": [
    "df.iloc[1].iat[11] = df['Fly Date'][:4] # month\n",
    "df.iloc[1].iat[12] = df['Fly Date'][4:] # year"
   ]
  },
  {
   "cell_type": "code",
   "execution_count": 17,
   "metadata": {},
   "outputs": [
    {
     "data": {
      "text/html": [
       "<div>\n",
       "<style scoped>\n",
       "    .dataframe tbody tr th:only-of-type {\n",
       "        vertical-align: middle;\n",
       "    }\n",
       "\n",
       "    .dataframe tbody tr th {\n",
       "        vertical-align: top;\n",
       "    }\n",
       "\n",
       "    .dataframe thead th {\n",
       "        text-align: right;\n",
       "    }\n",
       "</style>\n",
       "<table border=\"1\" class=\"dataframe\">\n",
       "  <thead>\n",
       "    <tr style=\"text-align: right;\">\n",
       "      <th></th>\n",
       "      <th>Origin</th>\n",
       "      <th>Destination</th>\n",
       "      <th>Origin City</th>\n",
       "      <th>Destination City</th>\n",
       "      <th>Passengers</th>\n",
       "      <th>Seats</th>\n",
       "      <th>Flights</th>\n",
       "      <th>Distance</th>\n",
       "      <th>Fly Date</th>\n",
       "      <th>Origin Population</th>\n",
       "      <th>Destination Population</th>\n",
       "      <th>Month</th>\n",
       "      <th>Year</th>\n",
       "    </tr>\n",
       "  </thead>\n",
       "  <tbody>\n",
       "    <tr>\n",
       "      <th>0</th>\n",
       "      <td>MHK</td>\n",
       "      <td>AMW</td>\n",
       "      <td>Manhattan, KS</td>\n",
       "      <td>Ames, IA</td>\n",
       "      <td>21</td>\n",
       "      <td>30</td>\n",
       "      <td>1</td>\n",
       "      <td>254.0</td>\n",
       "      <td>200810</td>\n",
       "      <td>122049</td>\n",
       "      <td>86219</td>\n",
       "      <td>None</td>\n",
       "      <td>None</td>\n",
       "    </tr>\n",
       "    <tr>\n",
       "      <th>1</th>\n",
       "      <td>EUG</td>\n",
       "      <td>RDM</td>\n",
       "      <td>Eugene, OR</td>\n",
       "      <td>Bend, OR</td>\n",
       "      <td>41</td>\n",
       "      <td>396</td>\n",
       "      <td>22</td>\n",
       "      <td>103.0</td>\n",
       "      <td>199011</td>\n",
       "      <td>284093</td>\n",
       "      <td>76034</td>\n",
       "      <td>9</td>\n",
       "      <td>10</td>\n",
       "    </tr>\n",
       "    <tr>\n",
       "      <th>2</th>\n",
       "      <td>EUG</td>\n",
       "      <td>RDM</td>\n",
       "      <td>Eugene, OR</td>\n",
       "      <td>Bend, OR</td>\n",
       "      <td>88</td>\n",
       "      <td>342</td>\n",
       "      <td>19</td>\n",
       "      <td>103.0</td>\n",
       "      <td>199012</td>\n",
       "      <td>284093</td>\n",
       "      <td>76034</td>\n",
       "      <td>None</td>\n",
       "      <td>None</td>\n",
       "    </tr>\n",
       "  </tbody>\n",
       "</table>\n",
       "</div>"
      ],
      "text/plain": [
       "  Origin Destination    Origin City Destination City  Passengers  Seats  \\\n",
       "0    MHK         AMW  Manhattan, KS         Ames, IA          21     30   \n",
       "1    EUG         RDM     Eugene, OR         Bend, OR          41    396   \n",
       "2    EUG         RDM     Eugene, OR         Bend, OR          88    342   \n",
       "\n",
       "   Flights  Distance Fly Date  Origin Population  Destination Population  \\\n",
       "0        1     254.0   200810             122049                   86219   \n",
       "1       22     103.0   199011             284093                   76034   \n",
       "2       19     103.0   199012             284093                   76034   \n",
       "\n",
       "  Month  Year  \n",
       "0  None  None  \n",
       "1     9    10  \n",
       "2  None  None  "
      ]
     },
     "execution_count": 17,
     "metadata": {},
     "output_type": "execute_result"
    }
   ],
   "source": [
    "df.head(n=3)"
   ]
  },
  {
   "cell_type": "code",
   "execution_count": 18,
   "metadata": {},
   "outputs": [
    {
     "data": {
      "text/plain": [
       "Origin                     object\n",
       "Destination                object\n",
       "Origin City                object\n",
       "Destination City           object\n",
       "Passengers                  int64\n",
       "Seats                       int64\n",
       "Flights                     int64\n",
       "Distance                  float64\n",
       "Fly Date                   object\n",
       "Origin Population           int64\n",
       "Destination Population      int64\n",
       "Month                      object\n",
       "Year                       object\n",
       "dtype: object"
      ]
     },
     "execution_count": 18,
     "metadata": {},
     "output_type": "execute_result"
    }
   ],
   "source": [
    "df.dtypes # check to see if I need to change data types of month and year"
   ]
  },
  {
   "cell_type": "code",
   "execution_count": 19,
   "metadata": {},
   "outputs": [],
   "source": [
    "#df_fly_dates = df[['Fly Date', 'Flights']]\n",
    "#df_fly_dates.head(n=5)\n",
    "df_by_dates = df.groupby('Fly Date').sum().reset_index()"
   ]
  },
  {
   "cell_type": "code",
   "execution_count": 20,
   "metadata": {},
   "outputs": [
    {
     "data": {
      "text/plain": [
       "Fly Date                   object\n",
       "Passengers                  int64\n",
       "Seats                       int64\n",
       "Flights                     int64\n",
       "Distance                  float64\n",
       "Origin Population           int64\n",
       "Destination Population      int64\n",
       "dtype: object"
      ]
     },
     "execution_count": 20,
     "metadata": {},
     "output_type": "execute_result"
    }
   ],
   "source": [
    "df_by_dates.dtypes"
   ]
  },
  {
   "cell_type": "code",
   "execution_count": 21,
   "metadata": {},
   "outputs": [
    {
     "data": {
      "text/html": [
       "<div>\n",
       "<style scoped>\n",
       "    .dataframe tbody tr th:only-of-type {\n",
       "        vertical-align: middle;\n",
       "    }\n",
       "\n",
       "    .dataframe tbody tr th {\n",
       "        vertical-align: top;\n",
       "    }\n",
       "\n",
       "    .dataframe thead th {\n",
       "        text-align: right;\n",
       "    }\n",
       "</style>\n",
       "<table border=\"1\" class=\"dataframe\">\n",
       "  <thead>\n",
       "    <tr style=\"text-align: right;\">\n",
       "      <th></th>\n",
       "      <th>Fly Date</th>\n",
       "      <th>Passengers</th>\n",
       "      <th>Seats</th>\n",
       "      <th>Flights</th>\n",
       "      <th>Distance</th>\n",
       "      <th>Origin Population</th>\n",
       "      <th>Destination Population</th>\n",
       "    </tr>\n",
       "  </thead>\n",
       "  <tbody>\n",
       "    <tr>\n",
       "      <th>0</th>\n",
       "      <td>199001</td>\n",
       "      <td>27605138</td>\n",
       "      <td>55539260</td>\n",
       "      <td>422366</td>\n",
       "      <td>7827975.0</td>\n",
       "      <td>70916223552</td>\n",
       "      <td>71693626139</td>\n",
       "    </tr>\n",
       "    <tr>\n",
       "      <th>1</th>\n",
       "      <td>199002</td>\n",
       "      <td>27010787</td>\n",
       "      <td>49894444</td>\n",
       "      <td>379961</td>\n",
       "      <td>7684717.0</td>\n",
       "      <td>69596807481</td>\n",
       "      <td>68886987291</td>\n",
       "    </tr>\n",
       "    <tr>\n",
       "      <th>2</th>\n",
       "      <td>199003</td>\n",
       "      <td>32948359</td>\n",
       "      <td>56465593</td>\n",
       "      <td>429472</td>\n",
       "      <td>7635153.0</td>\n",
       "      <td>68680523618</td>\n",
       "      <td>68189402036</td>\n",
       "    </tr>\n",
       "    <tr>\n",
       "      <th>3</th>\n",
       "      <td>199004</td>\n",
       "      <td>31177552</td>\n",
       "      <td>55149836</td>\n",
       "      <td>420019</td>\n",
       "      <td>7359825.0</td>\n",
       "      <td>66817182721</td>\n",
       "      <td>65762943942</td>\n",
       "    </tr>\n",
       "    <tr>\n",
       "      <th>4</th>\n",
       "      <td>199005</td>\n",
       "      <td>31203382</td>\n",
       "      <td>56815046</td>\n",
       "      <td>435517</td>\n",
       "      <td>7645908.0</td>\n",
       "      <td>70626316107</td>\n",
       "      <td>71946129031</td>\n",
       "    </tr>\n",
       "  </tbody>\n",
       "</table>\n",
       "</div>"
      ],
      "text/plain": [
       "  Fly Date  Passengers     Seats  Flights   Distance  Origin Population  \\\n",
       "0   199001    27605138  55539260   422366  7827975.0        70916223552   \n",
       "1   199002    27010787  49894444   379961  7684717.0        69596807481   \n",
       "2   199003    32948359  56465593   429472  7635153.0        68680523618   \n",
       "3   199004    31177552  55149836   420019  7359825.0        66817182721   \n",
       "4   199005    31203382  56815046   435517  7645908.0        70626316107   \n",
       "\n",
       "   Destination Population  \n",
       "0             71693626139  \n",
       "1             68886987291  \n",
       "2             68189402036  \n",
       "3             65762943942  \n",
       "4             71946129031  "
      ]
     },
     "execution_count": 21,
     "metadata": {},
     "output_type": "execute_result"
    }
   ],
   "source": [
    "df_by_dates.head(n=5)"
   ]
  },
  {
   "cell_type": "code",
   "execution_count": 22,
   "metadata": {},
   "outputs": [
    {
     "data": {
      "text/html": [
       "<div>\n",
       "<style scoped>\n",
       "    .dataframe tbody tr th:only-of-type {\n",
       "        vertical-align: middle;\n",
       "    }\n",
       "\n",
       "    .dataframe tbody tr th {\n",
       "        vertical-align: top;\n",
       "    }\n",
       "\n",
       "    .dataframe thead th {\n",
       "        text-align: right;\n",
       "    }\n",
       "</style>\n",
       "<table border=\"1\" class=\"dataframe\">\n",
       "  <thead>\n",
       "    <tr style=\"text-align: right;\">\n",
       "      <th></th>\n",
       "      <th>Fly Date</th>\n",
       "      <th>Passengers</th>\n",
       "      <th>Seats</th>\n",
       "      <th>Flights</th>\n",
       "      <th>Distance</th>\n",
       "      <th>Origin Population</th>\n",
       "      <th>Destination Population</th>\n",
       "    </tr>\n",
       "  </thead>\n",
       "  <tbody>\n",
       "    <tr>\n",
       "      <th>0</th>\n",
       "      <td>199001</td>\n",
       "      <td>27605138</td>\n",
       "      <td>55539260</td>\n",
       "      <td>422366</td>\n",
       "      <td>7827975.0</td>\n",
       "      <td>70916223552</td>\n",
       "      <td>71693626139</td>\n",
       "    </tr>\n",
       "    <tr>\n",
       "      <th>1</th>\n",
       "      <td>199002</td>\n",
       "      <td>27010787</td>\n",
       "      <td>49894444</td>\n",
       "      <td>379961</td>\n",
       "      <td>7684717.0</td>\n",
       "      <td>69596807481</td>\n",
       "      <td>68886987291</td>\n",
       "    </tr>\n",
       "    <tr>\n",
       "      <th>2</th>\n",
       "      <td>199003</td>\n",
       "      <td>32948359</td>\n",
       "      <td>56465593</td>\n",
       "      <td>429472</td>\n",
       "      <td>7635153.0</td>\n",
       "      <td>68680523618</td>\n",
       "      <td>68189402036</td>\n",
       "    </tr>\n",
       "    <tr>\n",
       "      <th>3</th>\n",
       "      <td>199004</td>\n",
       "      <td>31177552</td>\n",
       "      <td>55149836</td>\n",
       "      <td>420019</td>\n",
       "      <td>7359825.0</td>\n",
       "      <td>66817182721</td>\n",
       "      <td>65762943942</td>\n",
       "    </tr>\n",
       "    <tr>\n",
       "      <th>4</th>\n",
       "      <td>199005</td>\n",
       "      <td>31203382</td>\n",
       "      <td>56815046</td>\n",
       "      <td>435517</td>\n",
       "      <td>7645908.0</td>\n",
       "      <td>70626316107</td>\n",
       "      <td>71946129031</td>\n",
       "    </tr>\n",
       "  </tbody>\n",
       "</table>\n",
       "</div>"
      ],
      "text/plain": [
       "  Fly Date  Passengers     Seats  Flights   Distance  Origin Population  \\\n",
       "0   199001    27605138  55539260   422366  7827975.0        70916223552   \n",
       "1   199002    27010787  49894444   379961  7684717.0        69596807481   \n",
       "2   199003    32948359  56465593   429472  7635153.0        68680523618   \n",
       "3   199004    31177552  55149836   420019  7359825.0        66817182721   \n",
       "4   199005    31203382  56815046   435517  7645908.0        70626316107   \n",
       "\n",
       "   Destination Population  \n",
       "0             71693626139  \n",
       "1             68886987291  \n",
       "2             68189402036  \n",
       "3             65762943942  \n",
       "4             71946129031  "
      ]
     },
     "execution_count": 22,
     "metadata": {},
     "output_type": "execute_result"
    }
   ],
   "source": [
    "df_by_dates.head(n=5)"
   ]
  },
  {
   "cell_type": "code",
   "execution_count": 23,
   "metadata": {},
   "outputs": [
    {
     "data": {
      "text/plain": [
       "['Fly Date',\n",
       " 'Passengers',\n",
       " 'Seats',\n",
       " 'Flights',\n",
       " 'Distance',\n",
       " 'Origin Population',\n",
       " 'Destination Population']"
      ]
     },
     "execution_count": 23,
     "metadata": {},
     "output_type": "execute_result"
    }
   ],
   "source": [
    "list(df_by_dates)"
   ]
  },
  {
   "cell_type": "code",
   "execution_count": 24,
   "metadata": {},
   "outputs": [
    {
     "data": {
      "image/png": "[encoded data removed]",
      "text/plain": [
       "<Figure size 432x288 with 1 Axes>"
      ]
     },
     "metadata": {
      "needs_background": "light"
     },
     "output_type": "display_data"
    }
   ],
   "source": [
    "x = df_by_dates['Fly Date']\n",
    "y = df_by_dates['Flights']\n",
    "\n",
    "plt.plot(x,y)\n",
    "plt.rcParams['figure.figsize'] = [30,30]\n",
    "plt.rc('xtick', labelsize=30)\n",
    "plt.rc('ytick', labelsize=10)\n",
    "plt.show()"
   ]
  },
  {
   "cell_type": "markdown",
   "metadata": {},
   "source": [
    "The total flight number trend through the years is pretty clear. Each year, there are a few spikes followed by steady climbs and descends in flight totals."
   ]
  },
  {
   "cell_type": "code",
   "execution_count": 25,
   "metadata": {},
   "outputs": [],
   "source": [
    "last_3_yrs = df_by_dates[df_by_dates['Fly Date'] >= '200700']"
   ]
  },
  {
   "cell_type": "code",
   "execution_count": 26,
   "metadata": {},
   "outputs": [
    {
     "data": {
      "text/html": [
       "<div>\n",
       "<style scoped>\n",
       "    .dataframe tbody tr th:only-of-type {\n",
       "        vertical-align: middle;\n",
       "    }\n",
       "\n",
       "    .dataframe tbody tr th {\n",
       "        vertical-align: top;\n",
       "    }\n",
       "\n",
       "    .dataframe thead th {\n",
       "        text-align: right;\n",
       "    }\n",
       "</style>\n",
       "<table border=\"1\" class=\"dataframe\">\n",
       "  <thead>\n",
       "    <tr style=\"text-align: right;\">\n",
       "      <th></th>\n",
       "      <th>Fly Date</th>\n",
       "      <th>Passengers</th>\n",
       "      <th>Seats</th>\n",
       "      <th>Flights</th>\n",
       "      <th>Distance</th>\n",
       "      <th>Origin Population</th>\n",
       "      <th>Destination Population</th>\n",
       "    </tr>\n",
       "  </thead>\n",
       "  <tbody>\n",
       "    <tr>\n",
       "      <th>235</th>\n",
       "      <td>200908</td>\n",
       "      <td>48286811</td>\n",
       "      <td>60782309</td>\n",
       "      <td>632620</td>\n",
       "      <td>12437195.0</td>\n",
       "      <td>109724855895</td>\n",
       "      <td>112090182021</td>\n",
       "    </tr>\n",
       "    <tr>\n",
       "      <th>236</th>\n",
       "      <td>200909</td>\n",
       "      <td>41339351</td>\n",
       "      <td>55401225</td>\n",
       "      <td>581047</td>\n",
       "      <td>11966484.0</td>\n",
       "      <td>104384362898</td>\n",
       "      <td>104180679226</td>\n",
       "    </tr>\n",
       "    <tr>\n",
       "      <th>237</th>\n",
       "      <td>200910</td>\n",
       "      <td>45051011</td>\n",
       "      <td>57629612</td>\n",
       "      <td>602156</td>\n",
       "      <td>12293516.0</td>\n",
       "      <td>105848879359</td>\n",
       "      <td>105036943652</td>\n",
       "    </tr>\n",
       "    <tr>\n",
       "      <th>238</th>\n",
       "      <td>200911</td>\n",
       "      <td>41686490</td>\n",
       "      <td>55364702</td>\n",
       "      <td>576901</td>\n",
       "      <td>12634172.0</td>\n",
       "      <td>106524893418</td>\n",
       "      <td>106820716257</td>\n",
       "    </tr>\n",
       "    <tr>\n",
       "      <th>239</th>\n",
       "      <td>200912</td>\n",
       "      <td>42374318</td>\n",
       "      <td>55890397</td>\n",
       "      <td>587123</td>\n",
       "      <td>13812045.0</td>\n",
       "      <td>116476148126</td>\n",
       "      <td>117541441455</td>\n",
       "    </tr>\n",
       "  </tbody>\n",
       "</table>\n",
       "</div>"
      ],
      "text/plain": [
       "    Fly Date  Passengers     Seats  Flights    Distance  Origin Population  \\\n",
       "235   200908    48286811  60782309   632620  12437195.0       109724855895   \n",
       "236   200909    41339351  55401225   581047  11966484.0       104384362898   \n",
       "237   200910    45051011  57629612   602156  12293516.0       105848879359   \n",
       "238   200911    41686490  55364702   576901  12634172.0       106524893418   \n",
       "239   200912    42374318  55890397   587123  13812045.0       116476148126   \n",
       "\n",
       "     Destination Population  \n",
       "235            112090182021  \n",
       "236            104180679226  \n",
       "237            105036943652  \n",
       "238            106820716257  \n",
       "239            117541441455  "
      ]
     },
     "execution_count": 26,
     "metadata": {},
     "output_type": "execute_result"
    }
   ],
   "source": [
    "last_3_yrs.tail(n=5)"
   ]
  },
  {
   "cell_type": "code",
   "execution_count": 27,
   "metadata": {},
   "outputs": [
    {
     "data": {
      "image/png": "[encoded data removed]",
      "text/plain": [
       "<Figure size 2160x2160 with 1 Axes>"
      ]
     },
     "metadata": {
      "needs_background": "light"
     },
     "output_type": "display_data"
    }
   ],
   "source": [
    "x = last_3_yrs['Fly Date']\n",
    "y = last_3_yrs['Flights']\n",
    "\n",
    "plt.plot(x,y)\n",
    "plt.rcParams['figure.figsize'] = [20,5]\n",
    "plt.show()"
   ]
  },
  {
   "cell_type": "markdown",
   "metadata": {},
   "source": [
    "When comparing the last three years, the trend is staying consistent with the spikes during one part of the year. However, the trend in the year 2007 to 2009 is a steady drop in total flights."
   ]
  },
  {
   "cell_type": "code",
   "execution_count": 28,
   "metadata": {},
   "outputs": [],
   "source": [
    "last_yr_df = df_by_dates[df_by_dates['Fly Date'] >= '200900']"
   ]
  },
  {
   "cell_type": "code",
   "execution_count": 29,
   "metadata": {},
   "outputs": [
    {
     "data": {
      "text/html": [
       "<div>\n",
       "<style scoped>\n",
       "    .dataframe tbody tr th:only-of-type {\n",
       "        vertical-align: middle;\n",
       "    }\n",
       "\n",
       "    .dataframe tbody tr th {\n",
       "        vertical-align: top;\n",
       "    }\n",
       "\n",
       "    .dataframe thead th {\n",
       "        text-align: right;\n",
       "    }\n",
       "</style>\n",
       "<table border=\"1\" class=\"dataframe\">\n",
       "  <thead>\n",
       "    <tr style=\"text-align: right;\">\n",
       "      <th></th>\n",
       "      <th>Fly Date</th>\n",
       "      <th>Passengers</th>\n",
       "      <th>Seats</th>\n",
       "      <th>Flights</th>\n",
       "      <th>Distance</th>\n",
       "      <th>Origin Population</th>\n",
       "      <th>Destination Population</th>\n",
       "    </tr>\n",
       "  </thead>\n",
       "  <tbody>\n",
       "    <tr>\n",
       "      <th>228</th>\n",
       "      <td>200901</td>\n",
       "      <td>37693483</td>\n",
       "      <td>56264272</td>\n",
       "      <td>587161</td>\n",
       "      <td>12720735.0</td>\n",
       "      <td>110779946786</td>\n",
       "      <td>110180401865</td>\n",
       "    </tr>\n",
       "    <tr>\n",
       "      <th>229</th>\n",
       "      <td>200902</td>\n",
       "      <td>36658009</td>\n",
       "      <td>52111344</td>\n",
       "      <td>546241</td>\n",
       "      <td>11931786.0</td>\n",
       "      <td>105416292463</td>\n",
       "      <td>105457824141</td>\n",
       "    </tr>\n",
       "    <tr>\n",
       "      <th>230</th>\n",
       "      <td>200903</td>\n",
       "      <td>45033607</td>\n",
       "      <td>59177379</td>\n",
       "      <td>615601</td>\n",
       "      <td>12605437.0</td>\n",
       "      <td>108914225519</td>\n",
       "      <td>109988156573</td>\n",
       "    </tr>\n",
       "    <tr>\n",
       "      <th>231</th>\n",
       "      <td>200904</td>\n",
       "      <td>44485987</td>\n",
       "      <td>57667763</td>\n",
       "      <td>601592</td>\n",
       "      <td>12178741.0</td>\n",
       "      <td>109269414111</td>\n",
       "      <td>110443250407</td>\n",
       "    </tr>\n",
       "    <tr>\n",
       "      <th>232</th>\n",
       "      <td>200905</td>\n",
       "      <td>45229482</td>\n",
       "      <td>59012612</td>\n",
       "      <td>614442</td>\n",
       "      <td>12300527.0</td>\n",
       "      <td>108821288826</td>\n",
       "      <td>109862822220</td>\n",
       "    </tr>\n",
       "    <tr>\n",
       "      <th>233</th>\n",
       "      <td>200906</td>\n",
       "      <td>47754907</td>\n",
       "      <td>59324513</td>\n",
       "      <td>619372</td>\n",
       "      <td>12819063.0</td>\n",
       "      <td>112620992127</td>\n",
       "      <td>115021278105</td>\n",
       "    </tr>\n",
       "    <tr>\n",
       "      <th>234</th>\n",
       "      <td>200907</td>\n",
       "      <td>50708453</td>\n",
       "      <td>61780632</td>\n",
       "      <td>644983</td>\n",
       "      <td>12188270.0</td>\n",
       "      <td>107899280814</td>\n",
       "      <td>110841391566</td>\n",
       "    </tr>\n",
       "    <tr>\n",
       "      <th>235</th>\n",
       "      <td>200908</td>\n",
       "      <td>48286811</td>\n",
       "      <td>60782309</td>\n",
       "      <td>632620</td>\n",
       "      <td>12437195.0</td>\n",
       "      <td>109724855895</td>\n",
       "      <td>112090182021</td>\n",
       "    </tr>\n",
       "    <tr>\n",
       "      <th>236</th>\n",
       "      <td>200909</td>\n",
       "      <td>41339351</td>\n",
       "      <td>55401225</td>\n",
       "      <td>581047</td>\n",
       "      <td>11966484.0</td>\n",
       "      <td>104384362898</td>\n",
       "      <td>104180679226</td>\n",
       "    </tr>\n",
       "    <tr>\n",
       "      <th>237</th>\n",
       "      <td>200910</td>\n",
       "      <td>45051011</td>\n",
       "      <td>57629612</td>\n",
       "      <td>602156</td>\n",
       "      <td>12293516.0</td>\n",
       "      <td>105848879359</td>\n",
       "      <td>105036943652</td>\n",
       "    </tr>\n",
       "    <tr>\n",
       "      <th>238</th>\n",
       "      <td>200911</td>\n",
       "      <td>41686490</td>\n",
       "      <td>55364702</td>\n",
       "      <td>576901</td>\n",
       "      <td>12634172.0</td>\n",
       "      <td>106524893418</td>\n",
       "      <td>106820716257</td>\n",
       "    </tr>\n",
       "    <tr>\n",
       "      <th>239</th>\n",
       "      <td>200912</td>\n",
       "      <td>42374318</td>\n",
       "      <td>55890397</td>\n",
       "      <td>587123</td>\n",
       "      <td>13812045.0</td>\n",
       "      <td>116476148126</td>\n",
       "      <td>117541441455</td>\n",
       "    </tr>\n",
       "  </tbody>\n",
       "</table>\n",
       "</div>"
      ],
      "text/plain": [
       "    Fly Date  Passengers     Seats  Flights    Distance  Origin Population  \\\n",
       "228   200901    37693483  56264272   587161  12720735.0       110779946786   \n",
       "229   200902    36658009  52111344   546241  11931786.0       105416292463   \n",
       "230   200903    45033607  59177379   615601  12605437.0       108914225519   \n",
       "231   200904    44485987  57667763   601592  12178741.0       109269414111   \n",
       "232   200905    45229482  59012612   614442  12300527.0       108821288826   \n",
       "233   200906    47754907  59324513   619372  12819063.0       112620992127   \n",
       "234   200907    50708453  61780632   644983  12188270.0       107899280814   \n",
       "235   200908    48286811  60782309   632620  12437195.0       109724855895   \n",
       "236   200909    41339351  55401225   581047  11966484.0       104384362898   \n",
       "237   200910    45051011  57629612   602156  12293516.0       105848879359   \n",
       "238   200911    41686490  55364702   576901  12634172.0       106524893418   \n",
       "239   200912    42374318  55890397   587123  13812045.0       116476148126   \n",
       "\n",
       "     Destination Population  \n",
       "228            110180401865  \n",
       "229            105457824141  \n",
       "230            109988156573  \n",
       "231            110443250407  \n",
       "232            109862822220  \n",
       "233            115021278105  \n",
       "234            110841391566  \n",
       "235            112090182021  \n",
       "236            104180679226  \n",
       "237            105036943652  \n",
       "238            106820716257  \n",
       "239            117541441455  "
      ]
     },
     "execution_count": 29,
     "metadata": {},
     "output_type": "execute_result"
    }
   ],
   "source": [
    "last_yr_df"
   ]
  },
  {
   "cell_type": "code",
   "execution_count": 30,
   "metadata": {},
   "outputs": [
    {
     "data": {
      "image/png": "[encoded data removed]",
      "text/plain": [
       "<Figure size 1440x360 with 1 Axes>"
      ]
     },
     "metadata": {
      "needs_background": "light"
     },
     "output_type": "display_data"
    }
   ],
   "source": [
    "x = last_yr_df['Fly Date']\n",
    "y = last_yr_df['Flights']\n",
    "\n",
    "plt.plot(x,y)\n",
    "plt.rcParams['figure.figsize'] = [15,5]\n",
    "plt.show()"
   ]
  },
  {
   "cell_type": "markdown",
   "metadata": {},
   "source": [
    "When looking at just 2009, we can see that the spike in flight totals starts in the summer. This is consistent with a large number of the population relying on summer holidays for the school year. There is another spike in March, consistent with another major school holiday, Spring Break. "
   ]
  },
  {
   "cell_type": "markdown",
   "metadata": {},
   "source": [
    "Idea for analysis: \n",
    "* which cities are getting more and more departures over the time of data collection around holiday season, November and December"
   ]
  },
  {
   "cell_type": "code",
   "execution_count": 31,
   "metadata": {},
   "outputs": [],
   "source": [
    "origin_df = df.groupby(['Fly Date', 'Origin City']).sum().reset_index()"
   ]
  },
  {
   "cell_type": "code",
   "execution_count": 32,
   "metadata": {},
   "outputs": [],
   "source": [
    "origin_df = origin_df.sort_values(by='Flights', ascending = False)"
   ]
  },
  {
   "cell_type": "code",
   "execution_count": 33,
   "metadata": {
    "scrolled": true
   },
   "outputs": [
    {
     "data": {
      "text/html": [
       "<div>\n",
       "<style scoped>\n",
       "    .dataframe tbody tr th:only-of-type {\n",
       "        vertical-align: middle;\n",
       "    }\n",
       "\n",
       "    .dataframe tbody tr th {\n",
       "        vertical-align: top;\n",
       "    }\n",
       "\n",
       "    .dataframe thead th {\n",
       "        text-align: right;\n",
       "    }\n",
       "</style>\n",
       "<table border=\"1\" class=\"dataframe\">\n",
       "  <thead>\n",
       "    <tr style=\"text-align: right;\">\n",
       "      <th></th>\n",
       "      <th>Fly Date</th>\n",
       "      <th>Origin City</th>\n",
       "      <th>Passengers</th>\n",
       "      <th>Seats</th>\n",
       "      <th>Flights</th>\n",
       "      <th>Distance</th>\n",
       "      <th>Origin Population</th>\n",
       "      <th>Destination Population</th>\n",
       "    </tr>\n",
       "  </thead>\n",
       "  <tbody>\n",
       "    <tr>\n",
       "      <th>1876</th>\n",
       "      <td>199010</td>\n",
       "      <td>Chicago, IL</td>\n",
       "      <td>2296968</td>\n",
       "      <td>4045039</td>\n",
       "      <td>29308</td>\n",
       "      <td>499972.0</td>\n",
       "      <td>11230607880</td>\n",
       "      <td>3545673558</td>\n",
       "    </tr>\n",
       "    <tr>\n",
       "      <th>1886</th>\n",
       "      <td>199010</td>\n",
       "      <td>Dallas, TX</td>\n",
       "      <td>2027598</td>\n",
       "      <td>3524850</td>\n",
       "      <td>23582</td>\n",
       "      <td>362397.0</td>\n",
       "      <td>3696874250</td>\n",
       "      <td>1947998907</td>\n",
       "    </tr>\n",
       "    <tr>\n",
       "      <th>1849</th>\n",
       "      <td>199010</td>\n",
       "      <td>Atlanta, GA</td>\n",
       "      <td>1706507</td>\n",
       "      <td>3172105</td>\n",
       "      <td>22295</td>\n",
       "      <td>292588.0</td>\n",
       "      <td>1491385665</td>\n",
       "      <td>2411563554</td>\n",
       "    </tr>\n",
       "    <tr>\n",
       "      <th>1949</th>\n",
       "      <td>199010</td>\n",
       "      <td>Los Angeles, CA</td>\n",
       "      <td>1369604</td>\n",
       "      <td>2438960</td>\n",
       "      <td>15532</td>\n",
       "      <td>465762.0</td>\n",
       "      <td>7656576708</td>\n",
       "      <td>2220390540</td>\n",
       "    </tr>\n",
       "    <tr>\n",
       "      <th>2035</th>\n",
       "      <td>199010</td>\n",
       "      <td>Washington, DC</td>\n",
       "      <td>973665</td>\n",
       "      <td>1841664</td>\n",
       "      <td>15182</td>\n",
       "      <td>200761.0</td>\n",
       "      <td>2903100642</td>\n",
       "      <td>2410917749</td>\n",
       "    </tr>\n",
       "    <tr>\n",
       "      <th>1972</th>\n",
       "      <td>199010</td>\n",
       "      <td>New York, NY</td>\n",
       "      <td>1251398</td>\n",
       "      <td>2228331</td>\n",
       "      <td>13903</td>\n",
       "      <td>391708.0</td>\n",
       "      <td>13697614196</td>\n",
       "      <td>2651599722</td>\n",
       "    </tr>\n",
       "    <tr>\n",
       "      <th>1921</th>\n",
       "      <td>199010</td>\n",
       "      <td>Houston, TX</td>\n",
       "      <td>904587</td>\n",
       "      <td>1675575</td>\n",
       "      <td>12942</td>\n",
       "      <td>250576.0</td>\n",
       "      <td>1261900170</td>\n",
       "      <td>1721318695</td>\n",
       "    </tr>\n",
       "    <tr>\n",
       "      <th>2007</th>\n",
       "      <td>199010</td>\n",
       "      <td>San Francisco, CA</td>\n",
       "      <td>971717</td>\n",
       "      <td>1652926</td>\n",
       "      <td>12229</td>\n",
       "      <td>328369.0</td>\n",
       "      <td>2052370776</td>\n",
       "      <td>2049774323</td>\n",
       "    </tr>\n",
       "    <tr>\n",
       "      <th>1889</th>\n",
       "      <td>199010</td>\n",
       "      <td>Detroit, MI</td>\n",
       "      <td>827106</td>\n",
       "      <td>1430812</td>\n",
       "      <td>10876</td>\n",
       "      <td>174769.0</td>\n",
       "      <td>2797700850</td>\n",
       "      <td>2007296748</td>\n",
       "    </tr>\n",
       "    <tr>\n",
       "      <th>2022</th>\n",
       "      <td>199010</td>\n",
       "      <td>St. Louis, MO</td>\n",
       "      <td>800108</td>\n",
       "      <td>1373099</td>\n",
       "      <td>10578</td>\n",
       "      <td>181766.0</td>\n",
       "      <td>754719552</td>\n",
       "      <td>1502444251</td>\n",
       "    </tr>\n",
       "  </tbody>\n",
       "</table>\n",
       "</div>"
      ],
      "text/plain": [
       "     Fly Date        Origin City  Passengers    Seats  Flights  Distance  \\\n",
       "1876   199010        Chicago, IL     2296968  4045039    29308  499972.0   \n",
       "1886   199010         Dallas, TX     2027598  3524850    23582  362397.0   \n",
       "1849   199010        Atlanta, GA     1706507  3172105    22295  292588.0   \n",
       "1949   199010    Los Angeles, CA     1369604  2438960    15532  465762.0   \n",
       "2035   199010     Washington, DC      973665  1841664    15182  200761.0   \n",
       "1972   199010       New York, NY     1251398  2228331    13903  391708.0   \n",
       "1921   199010        Houston, TX      904587  1675575    12942  250576.0   \n",
       "2007   199010  San Francisco, CA      971717  1652926    12229  328369.0   \n",
       "1889   199010        Detroit, MI      827106  1430812    10876  174769.0   \n",
       "2022   199010      St. Louis, MO      800108  1373099    10578  181766.0   \n",
       "\n",
       "      Origin Population  Destination Population  \n",
       "1876        11230607880              3545673558  \n",
       "1886         3696874250              1947998907  \n",
       "1849         1491385665              2411563554  \n",
       "1949         7656576708              2220390540  \n",
       "2035         2903100642              2410917749  \n",
       "1972        13697614196              2651599722  \n",
       "1921         1261900170              1721318695  \n",
       "2007         2052370776              2049774323  \n",
       "1889         2797700850              2007296748  \n",
       "2022          754719552              1502444251  "
      ]
     },
     "execution_count": 33,
     "metadata": {},
     "output_type": "execute_result"
    }
   ],
   "source": [
    "origin_df[origin_df['Fly Date'] == '199010'].nlargest(10, 'Flights')"
   ]
  },
  {
   "cell_type": "code",
   "execution_count": 34,
   "metadata": {},
   "outputs": [],
   "source": [
    "destination_df = df.groupby(['Fly Date', 'Destination City']).sum().reset_index()\n",
    "# Fly date not summed yet"
   ]
  },
  {
   "cell_type": "code",
   "execution_count": 35,
   "metadata": {},
   "outputs": [
    {
     "data": {
      "text/plain": [
       "Fly Date                   object\n",
       "Destination City           object\n",
       "Passengers                  int64\n",
       "Seats                       int64\n",
       "Flights                     int64\n",
       "Distance                  float64\n",
       "Origin Population           int64\n",
       "Destination Population      int64\n",
       "dtype: object"
      ]
     },
     "execution_count": 35,
     "metadata": {},
     "output_type": "execute_result"
    }
   ],
   "source": [
    "destination_df.dtypes"
   ]
  },
  {
   "cell_type": "code",
   "execution_count": 36,
   "metadata": {},
   "outputs": [],
   "source": [
    "holiday_df = destination_df[(destination_df['Fly Date'] == '199011') |\\\n",
    "              (destination_df['Fly Date'] == '199012')].groupby(['Destination City'])\\\n",
    ".sum().reset_index()"
   ]
  },
  {
   "cell_type": "code",
   "execution_count": 37,
   "metadata": {},
   "outputs": [
    {
     "data": {
      "text/html": [
       "<div>\n",
       "<style scoped>\n",
       "    .dataframe tbody tr th:only-of-type {\n",
       "        vertical-align: middle;\n",
       "    }\n",
       "\n",
       "    .dataframe tbody tr th {\n",
       "        vertical-align: top;\n",
       "    }\n",
       "\n",
       "    .dataframe thead th {\n",
       "        text-align: right;\n",
       "    }\n",
       "</style>\n",
       "<table border=\"1\" class=\"dataframe\">\n",
       "  <thead>\n",
       "    <tr style=\"text-align: right;\">\n",
       "      <th></th>\n",
       "      <th>Destination City</th>\n",
       "      <th>Passengers</th>\n",
       "      <th>Seats</th>\n",
       "      <th>Flights</th>\n",
       "      <th>Distance</th>\n",
       "      <th>Origin Population</th>\n",
       "      <th>Destination Population</th>\n",
       "    </tr>\n",
       "  </thead>\n",
       "  <tbody>\n",
       "    <tr>\n",
       "      <th>0</th>\n",
       "      <td>Abilene, TX</td>\n",
       "      <td>510</td>\n",
       "      <td>693</td>\n",
       "      <td>5</td>\n",
       "      <td>3958.0</td>\n",
       "      <td>19871659</td>\n",
       "      <td>738500</td>\n",
       "    </tr>\n",
       "    <tr>\n",
       "      <th>1</th>\n",
       "      <td>Akron, OH</td>\n",
       "      <td>47995</td>\n",
       "      <td>115862</td>\n",
       "      <td>1383</td>\n",
       "      <td>6296.0</td>\n",
       "      <td>107211836</td>\n",
       "      <td>16463950</td>\n",
       "    </tr>\n",
       "    <tr>\n",
       "      <th>2</th>\n",
       "      <td>Albany, NY</td>\n",
       "      <td>139093</td>\n",
       "      <td>300325</td>\n",
       "      <td>2418</td>\n",
       "      <td>41951.0</td>\n",
       "      <td>606435911</td>\n",
       "      <td>79500736</td>\n",
       "    </tr>\n",
       "    <tr>\n",
       "      <th>3</th>\n",
       "      <td>Albuquerque, NM</td>\n",
       "      <td>381069</td>\n",
       "      <td>617075</td>\n",
       "      <td>4606</td>\n",
       "      <td>83297.0</td>\n",
       "      <td>656877428</td>\n",
       "      <td>86672592</td>\n",
       "    </tr>\n",
       "    <tr>\n",
       "      <th>4</th>\n",
       "      <td>Allentown, PA</td>\n",
       "      <td>55814</td>\n",
       "      <td>115367</td>\n",
       "      <td>1192</td>\n",
       "      <td>16232.0</td>\n",
       "      <td>284859270</td>\n",
       "      <td>36481702</td>\n",
       "    </tr>\n",
       "  </tbody>\n",
       "</table>\n",
       "</div>"
      ],
      "text/plain": [
       "  Destination City  Passengers   Seats  Flights  Distance  Origin Population  \\\n",
       "0      Abilene, TX         510     693        5    3958.0           19871659   \n",
       "1        Akron, OH       47995  115862     1383    6296.0          107211836   \n",
       "2       Albany, NY      139093  300325     2418   41951.0          606435911   \n",
       "3  Albuquerque, NM      381069  617075     4606   83297.0          656877428   \n",
       "4    Allentown, PA       55814  115367     1192   16232.0          284859270   \n",
       "\n",
       "   Destination Population  \n",
       "0                  738500  \n",
       "1                16463950  \n",
       "2                79500736  \n",
       "3                86672592  \n",
       "4                36481702  "
      ]
     },
     "execution_count": 37,
     "metadata": {},
     "output_type": "execute_result"
    }
   ],
   "source": [
    "holiday_df.head(n=5)"
   ]
  },
  {
   "cell_type": "code",
   "execution_count": 38,
   "metadata": {},
   "outputs": [],
   "source": [
    "holiday_df['Year'] = 1990 # Add the year to the DataFrame"
   ]
  },
  {
   "cell_type": "markdown",
   "metadata": {},
   "source": [
    "How do I plot each top 10?"
   ]
  },
  {
   "cell_type": "markdown",
   "metadata": {},
   "source": [
    "put new info into dictionaries \n",
    "Include the following\n",
    "* year\n",
    "* holiday season is month 11 and 12\n",
    "* total flights\n",
    "* destination city\n",
    "* top origin cities too?\n",
    "* plot in animated bars?"
   ]
  },
  {
   "cell_type": "code",
   "execution_count": 39,
   "metadata": {},
   "outputs": [],
   "source": [
    "def holiday_flights(source_df, city, year):\n",
    "    \"\"\"\n",
    "    This function takes three arguments, a source DataFrame, 'Origin City' or 'Destination City',\n",
    "    and the year in format XXXX integer form. \n",
    "    \n",
    "    It outputs a DataFrame with the 10 cities selected, ordered by total number of flights in\n",
    "    months November and December.\n",
    "    \"\"\"\n",
    "    year1 = str(year) + '11'\n",
    "    year2 = str(year) + '12'\n",
    "    if city == 'Origin City':\n",
    "        working_df = source_df.groupby(['Fly Date', 'Origin City']).sum().reset_index()\n",
    "        output_df = working_df[(working_df['Fly Date'] == year1) |\\\n",
    "                              (working_df['Fly Date'] == year2)].groupby(['Origin City'])\\\n",
    "        .sum().nlargest(10, 'Flights').reset_index()\n",
    "        output_df['Year'] = year\n",
    "        return output_df\n",
    "    elif city == 'Destination City':\n",
    "        working_df = source_df.groupby(['Fly Date', 'Destination City']).sum().reset_index()\n",
    "        output_df = working_df[(working_df['Fly Date'] == year1) |\\\n",
    "                              (working_df['Fly Date'] == year2)].groupby(['Destination City'])\\\n",
    "        .sum().nlargest(10, 'Flights').reset_index()\n",
    "        output_df['Year'] = year\n",
    "        return output_df\n",
    "    else:\n",
    "        print('Wrong city input')"
   ]
  },
  {
   "cell_type": "code",
   "execution_count": 80,
   "metadata": {},
   "outputs": [],
   "source": [
    "# Write function to assign rank to a small DataFrame\n",
    "\n",
    "def assign_ranks(df):\n",
    "    # Add a column to the DataFrame that shows the rank in flight numbers\n",
    "    ranks = [i+1 for i in range(10)]\n",
    "    df = df.assign(Rank = ranks)\n",
    "    return df"
   ]
  },
  {
   "cell_type": "code",
   "execution_count": 103,
   "metadata": {},
   "outputs": [],
   "source": [
    "# Write function to gather years of data\n",
    "def gather_data(start_year, end_year, ori_or_dest):\n",
    "    output_df = pd.DataFrame()\n",
    "    for year in range(start_year, end_year+1):\n",
    "        work_df = holiday_flights(df, ori_or_dest, year)\n",
    "        work_df = assign_ranks(work_df)\n",
    "        output_df = output_df.append(work_df)\n",
    "    return output_df"
   ]
  },
  {
   "cell_type": "code",
   "execution_count": 107,
   "metadata": {},
   "outputs": [],
   "source": [
    "result_df = gather_data(2000, 2009, 'Origin City')"
   ]
  },
  {
   "cell_type": "markdown",
   "metadata": {},
   "source": [
    "Now, plot and encode the following:\n",
    "* x-axis: year\n",
    "* y-axis: rank per city\n",
    "* Include all 10 ranks each year"
   ]
  }
 ],
 "metadata": {
  "kernelspec": {
   "display_name": "Python 3",
   "language": "python",
   "name": "python3"
  },
  "language_info": {
   "codemirror_mode": {
    "name": "ipython",
    "version": 3
   },
   "file_extension": ".py",
   "mimetype": "text/x-python",
   "name": "python",
   "nbconvert_exporter": "python",
   "pygments_lexer": "ipython3",
   "version": "3.6.6"
  }
 },
 "nbformat": 4,
 "nbformat_minor": 2
}
